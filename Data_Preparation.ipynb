{
 "cells": [
  {
   "cell_type": "code",
   "execution_count": 1,
   "id": "9ce68b57",
   "metadata": {},
   "outputs": [],
   "source": [
    "import pandas as pd\n",
    "import numpy as np\n",
    "import re\n",
    "import string\n",
    "import random"
   ]
  },
  {
   "cell_type": "code",
   "execution_count": 2,
   "id": "b7eeb250",
   "metadata": {},
   "outputs": [],
   "source": [
    "def clean_text(text):\n",
    "    # remove excessive spaces between words\n",
    "    text = re.sub(r'\\s+', ' ', text)\n",
    "    # remove leading/trailing spaces\n",
    "    text = text.strip()\n",
    "    # remove any remaining non-printable characters\n",
    "    text = ''.join(filter(lambda x: x.isprintable(), text))\n",
    "    return text"
   ]
  },
  {
   "cell_type": "code",
   "execution_count": 3,
   "id": "4cda1f40",
   "metadata": {},
   "outputs": [],
   "source": [
    "data = pd.read_csv(\"QA1.csv\")\n"
   ]
  },
  {
   "cell_type": "code",
   "execution_count": 4,
   "id": "6f96514f",
   "metadata": {},
   "outputs": [],
   "source": [
    "# remove unwanted characters from the content column\n",
    "data['questions'] = data['questions'].replace('\\n', ' ', regex=True)\n",
    "data['questions'] = data['questions'].replace('\\t', ' ', regex=True)\n",
    "data['questions'] = data['questions'].replace('\\r', ' ', regex=True)"
   ]
  },
  {
   "cell_type": "code",
   "execution_count": 7,
   "id": "5d5fa6be",
   "metadata": {},
   "outputs": [],
   "source": [
    "data = data[['questions']]\n",
    "data.dropna(inplace=True)\n",
    "\n",
    "data['questions'] = data['questions'].str.lower()\n",
    "data['questions'] = data['questions'].apply(clean_text)\n"
   ]
  }
 ],
 "metadata": {
  "kernelspec": {
   "display_name": "Python 3 (ipykernel)",
   "language": "python",
   "name": "python3"
  },
  "language_info": {
   "codemirror_mode": {
    "name": "ipython",
    "version": 3
   },
   "file_extension": ".py",
   "mimetype": "text/x-python",
   "name": "python",
   "nbconvert_exporter": "python",
   "pygments_lexer": "ipython3",
   "version": "3.9.12"
  }
 },
 "nbformat": 4,
 "nbformat_minor": 5
}
