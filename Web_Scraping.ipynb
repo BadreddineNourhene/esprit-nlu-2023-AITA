{
 "cells": [
  {
   "cell_type": "code",
   "execution_count": 6,
   "id": "78c32151",
   "metadata": {},
   "outputs": [],
   "source": [
    "import pandas as pd \n",
    "import numpy as np \n",
    "import requests\n",
    "from bs4 import BeautifulSoup"
   ]
  },
  {
   "cell_type": "code",
   "execution_count": 7,
   "id": "d709072b",
   "metadata": {},
   "outputs": [],
   "source": [
    "url = 'http://www.finances.gov.tn/fr/faq?body_value=&field_themef_target_id=All&page=0'\n",
    "response = requests.get(url)\n",
    "soup = BeautifulSoup(response.content, 'lxml')\n",
    "\n",
    "# Find the last page button and extract the URL\n",
    "last_page_url  = soup.find('a', attrs={\"title\": \"Aller à la dernière page\"}).get('href')\n",
    "\n",
    "# Extract the maximum page number from the last page URL\n",
    "max_pages = int(last_page_url.split('=')[-1]) + 1 "
   ]
  },
  {
   "cell_type": "code",
   "execution_count": 8,
   "id": "48932516",
   "metadata": {},
   "outputs": [],
   "source": [
    "questions_list=[]\n",
    "answers_list=[]\n",
    "\n",
    "for page in range(max_pages):\n",
    "    \n",
    "    page_url = f'http://www.finances.gov.tn/fr/faq?body_value=&field_themef_target_id=All&page={page}'\n",
    "    response = requests.get(page_url)\n",
    "    html_content = response.content\n",
    "    soup = BeautifulSoup(html_content, 'html.parser')\n",
    "    \n",
    "    questions = soup.find_all(attrs={\"class\": \"question\"})\n",
    "    answers = soup.find_all(attrs={\"class\": \"reponse\"})\n",
    "    questions = [question.text.strip() for question in questions]\n",
    "    answers = [answer.text.strip() for answer in answers]\n",
    "    \n",
    "    questions_list.append(questions)\n",
    "    answers_list.append(answers)\n",
    "    \n",
    "# Flatten the lists\n",
    "questions_list = [item for sublist in questions_list for item in sublist]\n",
    "answers_list = [item for sublist in answers_list for item in sublist]"
   ]
  },
  {
   "cell_type": "code",
   "execution_count": 9,
   "id": "75a7771a",
   "metadata": {},
   "outputs": [
    {
     "data": {
      "text/html": [
       "<div>\n",
       "<style scoped>\n",
       "    .dataframe tbody tr th:only-of-type {\n",
       "        vertical-align: middle;\n",
       "    }\n",
       "\n",
       "    .dataframe tbody tr th {\n",
       "        vertical-align: top;\n",
       "    }\n",
       "\n",
       "    .dataframe thead th {\n",
       "        text-align: right;\n",
       "    }\n",
       "</style>\n",
       "<table border=\"1\" class=\"dataframe\">\n",
       "  <thead>\n",
       "    <tr style=\"text-align: right;\">\n",
       "      <th></th>\n",
       "      <th>questions</th>\n",
       "      <th>answers</th>\n",
       "    </tr>\n",
       "  </thead>\n",
       "  <tbody>\n",
       "    <tr>\n",
       "      <th>0</th>\n",
       "      <td>Est-ce qu’une personne physique soumise à l’im...</td>\n",
       "      <td>Les personnes physiques soumises à l'impôt sur...</td>\n",
       "    </tr>\n",
       "    <tr>\n",
       "      <th>1</th>\n",
       "      <td>Est-ce que les rémunérations du gérant d’une s...</td>\n",
       "      <td>Les rémunérations du gérant d'une SUARL sont d...</td>\n",
       "    </tr>\n",
       "    <tr>\n",
       "      <th>2</th>\n",
       "      <td>Si l’employeur refuse l’application de l’artic...</td>\n",
       "      <td>La déduction aura lieu du revenu global lors d...</td>\n",
       "    </tr>\n",
       "    <tr>\n",
       "      <th>3</th>\n",
       "      <td>Quel est le taux de la retenue à la source à a...</td>\n",
       "      <td>Les montants égaux ou supérieurs à 1000 D TTC ...</td>\n",
       "    </tr>\n",
       "    <tr>\n",
       "      <th>4</th>\n",
       "      <td>Est-ce que les associations sont soumises à l’...</td>\n",
       "      <td>Les associations sont hors champ d'application...</td>\n",
       "    </tr>\n",
       "  </tbody>\n",
       "</table>\n",
       "</div>"
      ],
      "text/plain": [
       "                                           questions  \\\n",
       "0  Est-ce qu’une personne physique soumise à l’im...   \n",
       "1  Est-ce que les rémunérations du gérant d’une s...   \n",
       "2  Si l’employeur refuse l’application de l’artic...   \n",
       "3  Quel est le taux de la retenue à la source à a...   \n",
       "4  Est-ce que les associations sont soumises à l’...   \n",
       "\n",
       "                                             answers  \n",
       "0  Les personnes physiques soumises à l'impôt sur...  \n",
       "1  Les rémunérations du gérant d'une SUARL sont d...  \n",
       "2  La déduction aura lieu du revenu global lors d...  \n",
       "3  Les montants égaux ou supérieurs à 1000 D TTC ...  \n",
       "4  Les associations sont hors champ d'application...  "
      ]
     },
     "execution_count": 9,
     "metadata": {},
     "output_type": "execute_result"
    }
   ],
   "source": [
    "QA_dict = {'questions':questions_list, 'answers':answers_list}\n",
    "QA_df = pd.DataFrame(QA_dict)\n",
    "QA_df.head()"
   ]
  },
  {
   "cell_type": "code",
   "execution_count": 12,
   "id": "a57aafb0",
   "metadata": {},
   "outputs": [],
   "source": [
    "# Saving into QA_finances.gov.tn.csv file\n",
    "QA_df.to_csv('QA1.csv', index=False)"
   ]
  },
  {
   "cell_type": "code",
   "execution_count": null,
   "id": "f0f0587a",
   "metadata": {},
   "outputs": [],
   "source": []
  }
 ],
 "metadata": {
  "kernelspec": {
   "display_name": "Python 3 (ipykernel)",
   "language": "python",
   "name": "python3"
  },
  "language_info": {
   "codemirror_mode": {
    "name": "ipython",
    "version": 3
   },
   "file_extension": ".py",
   "mimetype": "text/x-python",
   "name": "python",
   "nbconvert_exporter": "python",
   "pygments_lexer": "ipython3",
   "version": "3.9.12"
  }
 },
 "nbformat": 4,
 "nbformat_minor": 5
}
